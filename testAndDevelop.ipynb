{
 "cells": [
  {
   "cell_type": "code",
   "execution_count": 368,
   "metadata": {},
   "outputs": [],
   "source": [
    "import numpy as np\n",
    "import dtss as ds\n",
    "import numpy.random as rnd\n",
    "import scipy.linalg as la\n",
    "from importlib import reload\n",
    "reload(ds)\n",
    "import scipy.signal as sp"
   ]
  },
  {
   "cell_type": "code",
   "execution_count": 371,
   "metadata": {},
   "outputs": [
    {
     "name": "stdout",
     "output_type": "stream",
     "text": [
      "[ 0.03354481+0.j  0.00234691+0.j -0.02080421+0.j]\n",
      "[ 0.03354481+0.j  0.00234691+0.j -0.02080421+0.j]\n"
     ]
    }
   ],
   "source": [
    "nX = rnd.randint(1,5)\n",
    "nX = 3\n",
    "nY = rnd.randint(1,4)\n",
    "nU = rnd.randint(1,4)\n",
    "nY = 1\n",
    "nU = 1\n",
    "#print(nX,nU,nY)\n",
    "P = ds.drss(nX,nU,nY)\n",
    "\n",
    "A = np.array([[.5,0],\n",
    "             [1,.7]])\n",
    "B = np.array([[1.,0]]).T\n",
    "C = B.T\n",
    "D = np.zeros((1,1))\n",
    "\n",
    "#P = ds.dtss(A,B,C,D,dt=1.)\n",
    "\n",
    "Pmin = ds.minreal(P)\n",
    "\n",
    "print(la.eigvals(P.A))\n",
    "print(la.eigvals(Pmin.A))\n"
   ]
  },
  {
   "cell_type": "code",
   "execution_count": 372,
   "metadata": {},
   "outputs": [
    {
     "name": "stdout",
     "output_type": "stream",
     "text": [
      "[ 0.03354481+0.j  0.00234691+0.j -0.02080421+0.j]\n",
      "[[ 1.47629e+00 -0.00000e+00 -0.00000e+00]\n",
      " [-0.00000e+00  5.00000e-04 -0.00000e+00]\n",
      " [-0.00000e+00 -0.00000e+00  0.00000e+00]]\n",
      "[[ 1.47629e+00 -0.00000e+00  0.00000e+00]\n",
      " [-0.00000e+00  5.00000e-04 -0.00000e+00]\n",
      " [ 0.00000e+00 -0.00000e+00  0.00000e+00]]\n"
     ]
    }
   ],
   "source": [
    "Pbal = ds.balancedRealization(P)\n",
    "A,B,C,D = ds.extract_matrices(Pbal)\n",
    "print(la.eigvals(A))\n",
    "Xc = ds.controllabilityGramian(A,B)\n",
    "Yo = ds.observabilityGramian(A,C)\n",
    "print(np.around(Xc,5))\n",
    "print(np.around(Yo,5))"
   ]
  },
  {
   "cell_type": "code",
   "execution_count": null,
   "metadata": {},
   "outputs": [],
   "source": []
  },
  {
   "cell_type": "code",
   "execution_count": 298,
   "metadata": {},
   "outputs": [
    {
     "data": {
      "text/plain": [
       "array([[0.]])"
      ]
     },
     "execution_count": 298,
     "metadata": {},
     "output_type": "execute_result"
    }
   ],
   "source": [
    "D"
   ]
  },
  {
   "cell_type": "code",
   "execution_count": 7,
   "metadata": {},
   "outputs": [
    {
     "data": {
      "text/plain": [
       "StateSpaceContinuous(\n",
       "array([[-0.49527399,  0.26858049,  1.3765811 , -0.46795454,  2.2849781 ],\n",
       "       [ 0.        , -0.12047757,  0.04186779, -0.17036731,  0.01152447],\n",
       "       [ 0.        ,  0.17377205, -0.00699216, -0.08518412, -0.04248639],\n",
       "       [ 0.        , -0.02329347,  0.13473025, -0.06871055,  0.03233508],\n",
       "       [ 0.        , -0.00738347,  0.10219264,  0.11541965, -0.09675831]]),\n",
       "array([[-3.5081595 , -1.95549899],\n",
       "       [ 0.6946791 ,  0.35830829],\n",
       "       [-1.49416218, -0.15722265],\n",
       "       [-1.48177823, -1.9673176 ],\n",
       "       [-1.267761  , -0.35364487]]),\n",
       "array([[ 0.49523548, -0.58651049,  0.26364663,  0.15783797,  0.52674373],\n",
       "       [ 0.32935165, -0.66938404,  0.22499949, -0.18277682, -1.81943923]]),\n",
       "array([[0.25234205, 0.31351559],\n",
       "       [0.98517108, 1.48851347]]),\n",
       "dt: None\n",
       ")"
      ]
     },
     "execution_count": 7,
     "metadata": {},
     "output_type": "execute_result"
    }
   ],
   "source": [
    "nX1 = rnd.randint(1,5)\n",
    "nY1 = rnd.randint(1,5)\n",
    "nU1 = rnd.randint(1,5)\n",
    "\n",
    "nX2 = rnd.randint(1,5)\n",
    "nY2 = rnd.randint(1,5)\n",
    "nU2 = nY1\n",
    "\n",
    "specRad = lambda A : np.max(np.abs(la.eigvals(A)))\n",
    "\n",
    "def rss(nX,nU,nY,rho=.9):\n",
    "    A = rnd.randn(nX,nX)\n",
    "    u = rnd.rand()\n",
    "    A = A * u / specRad(A)\n",
    "    B = rnd.randn(nX,nU)\n",
    "    C = rnd.randn(nY,nX)\n",
    "    D = rnd.randn(nY,nU)\n",
    "    \n",
    "    return (A,B,C,D,1.)\n",
    "\n",
    "SS1 = rss(nX1,nU1,nY1)\n",
    "SS2 = rss(nX2,nU2,nY2)\n",
    "\n",
    "#SS1 = (np.array([[.5]]),np.ones((1,1)),np.ones((1,1)),np.ones((1,1)),1)\n",
    "#SS2 = (np.array([[.5]]),np.ones((1,1)),np.ones((1,1)),np.ones((1,1)),1)\n",
    "\n",
    "def addSS(P1,P2):\n",
    "    A1,B1,C1,D1,dt = P1\n",
    "    A2,B2,C2,D2,dt = P2\n",
    "    BigA = la.block_diag(A1,A2)\n",
    "    BigB = np.vstack([B1,B2])\n",
    "    BigC = np.hstack([C1,C2])\n",
    "    BigD = D1+D2\n",
    "    \n",
    "    return (BigA,BigB,BigC,BigD,dt)\n",
    "\n",
    "def addSP(P1,P2):\n",
    "    dt = P1.dt\n",
    "    Sum = P1 + P2\n",
    "    return sp.StateSpace(Sum.A,Sum.B,Sum.C,Sum.D,dt=dt)\n",
    "\n",
    "\n",
    "#AddSP = addSP(sp.StateSpace(*SS1[:4],dt=SS1[4]),sp.StateSpace(*SS2[:4],dt=SS2[4]))\n",
    "#AddSP = sp.dlti(AddSP,dt=1)\n",
    "\n",
    "#AddSimple = sp.StateSpace(*SS1[:4],dt=SS1[4]) + sp.StateSpace(*SS2[:4],dt=SS2[4])\n",
    "\n",
    "#AddCheck = addSS(SS1,SS2)\n",
    "\n",
    "P1 = sp.StateSpace(*SS1[:4],dt=SS1[4])\n",
    "P2 = sp.StateSpace(*SS2[:4],dt=SS2[4])\n",
    "MulSimple = P2 * P1\n",
    "MulSimple"
   ]
  },
  {
   "cell_type": "code",
   "execution_count": null,
   "metadata": {},
   "outputs": [],
   "source": [
    "M"
   ]
  },
  {
   "cell_type": "code",
   "execution_count": 59,
   "metadata": {},
   "outputs": [
    {
     "data": {
      "text/plain": [
       "[<matplotlib.lines.Line2D at 0x7f264d372748>,\n",
       " <matplotlib.lines.Line2D at 0x7f264d37b5f8>,\n",
       " <matplotlib.lines.Line2D at 0x7f264d37b748>,\n",
       " <matplotlib.lines.Line2D at 0x7f264d37b898>]"
      ]
     },
     "execution_count": 59,
     "metadata": {},
     "output_type": "execute_result"
    },
    {
     "data": {
      "image/png": "[encoded data removed]",
      "text/plain": [
       "<Figure size 432x288 with 2 Axes>"
      ]
     },
     "metadata": {},
     "output_type": "display_data"
    }
   ],
   "source": [
    "TCheck,YCheck = sp.dstep(AddCheck)\n",
    "T,Y = AddSP.step()\n",
    "fig,ax = plt.subplots(2,1,sharex=True)\n",
    "ax[0].plot(TCheck,YCheck[0])\n",
    "ax[1].plot(T,Y[0])"
   ]
  },
  {
   "cell_type": "code",
   "execution_count": 4,
   "metadata": {},
   "outputs": [
    {
     "data": {
      "text/plain": [
       "StateSpaceContinuous(\n",
       "array([[ 0.0075911 ,  0.31375773,  0.04791251,  0.        ],\n",
       "       [ 0.13019438,  0.09245239,  0.46593098,  0.        ],\n",
       "       [ 0.29844044, -0.62320285,  0.28436155,  0.        ],\n",
       "       [ 0.        ,  0.        ,  0.        ,  0.33410694]]),\n",
       "array([[ 0.9310841 , -0.8275494 ],\n",
       "       [-0.09156484, -0.38570978],\n",
       "       [-0.4534498 ,  0.40104955],\n",
       "       [ 0.14261407,  1.37630124]]),\n",
       "array([[-8.00897703e-01, -1.67313818e-01,  1.08575242e+00,\n",
       "        -4.03796865e-02],\n",
       "       [ 1.31358928e-03, -1.85449648e-03,  3.25966001e-01,\n",
       "         3.02032003e+00],\n",
       "       [-1.74949099e+00, -8.17753704e-01,  7.69047315e-01,\n",
       "         1.50461763e-01],\n",
       "       [-1.26010876e-01, -2.14089674e-01,  9.49188556e-01,\n",
       "        -6.78584822e-01]]),\n",
       "array([[ 0.45446515,  0.89149546],\n",
       "       [-2.04117056, -1.89915763],\n",
       "       [-0.04359186,  2.0779688 ],\n",
       "       [ 0.98523397,  0.54436762]]),\n",
       "dt: None\n",
       ")"
      ]
     },
     "execution_count": 4,
     "metadata": {},
     "output_type": "execute_result"
    }
   ],
   "source": [
    "AddSimple"
   ]
  },
  {
   "cell_type": "code",
   "execution_count": 1,
   "metadata": {},
   "outputs": [
    {
     "data": {
      "text/plain": [
       "'1.2.1'"
      ]
     },
     "execution_count": 1,
     "metadata": {},
     "output_type": "execute_result"
    }
   ],
   "source": [
    "import scipy\n",
    "scipy.__version__"
   ]
  },
  {
   "cell_type": "code",
   "execution_count": null,
   "metadata": {},
   "outputs": [],
   "source": []
  }
 ],
 "metadata": {
  "kernelspec": {
   "display_name": "Python [default]",
   "language": "python",
   "name": "python3"
  },
  "language_info": {
   "codemirror_mode": {
    "name": "ipython",
    "version": 3
   },
   "file_extension": ".py",
   "mimetype": "text/x-python",
   "name": "python",
   "nbconvert_exporter": "python",
   "pygments_lexer": "ipython3",
   "version": "3.6.8"
  }
 },
 "nbformat": 4,
 "nbformat_minor": 2
}
